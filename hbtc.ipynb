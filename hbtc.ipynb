{
  "nbformat": 4,
  "nbformat_minor": 0,
  "metadata": {
    "colab": {
      "name": "hbtc.ipynb",
      "provenance": [],
      "collapsed_sections": []
    },
    "kernelspec": {
      "name": "python3",
      "display_name": "Python 3"
    }
  },
  "cells": [
    {
      "cell_type": "code",
      "metadata": {
        "id": "AlKjw6p80Esl",
        "colab_type": "code",
        "outputId": "24bd177e-8f8b-457b-aec5-486b08f31a75",
        "colab": {
          "base_uri": "https://localhost:8080/",
          "height": 298
        }
      },
      "source": [
        "import json\n",
        "import requests\n",
        "import pandas as pd\n",
        "import numpy as np\n",
        "import matplotlib.pyplot as plt \n",
        "from keras.models import Sequential\n",
        "from keras.layers import Dense, LSTM, Dropout, Activation\n",
        "from keras import backend as K\n",
        "from keras.layers import LeakyReLU\n",
        "\n",
        "from sklearn.preprocessing import MinMaxScaler\n",
        "from sklearn.metrics import r2_score\n",
        "#min_max_scaler = MinMaxScaler()\n",
        "\n",
        "endpoint = 'https://min-api.cryptocompare.com/data/histoday'\n",
        "#limit is num days of data to retrieve \n",
        "res = requests.get(endpoint + '?fsym=BTC&tsym=USD&limit=1200')\n",
        "hist = pd.DataFrame(json.loads(res.content)['Data'])\n",
        "hist = hist.set_index('time')\n",
        "hist.index = pd.to_datetime(hist.index, unit='s')\n",
        "#hist.head()\n",
        "hist.tail()"
      ],
      "execution_count": 1,
      "outputs": [
        {
          "output_type": "stream",
          "text": [
            "Using TensorFlow backend.\n"
          ],
          "name": "stderr"
        },
        {
          "output_type": "display_data",
          "data": {
            "text/html": [
              "<p style=\"color: red;\">\n",
              "The default version of TensorFlow in Colab will soon switch to TensorFlow 2.x.<br>\n",
              "We recommend you <a href=\"https://www.tensorflow.org/guide/migrate\" target=\"_blank\">upgrade</a> now \n",
              "or ensure your notebook will continue to use TensorFlow 1.x via the <code>%tensorflow_version 1.x</code> magic:\n",
              "<a href=\"https://colab.research.google.com/notebooks/tensorflow_version.ipynb\" target=\"_blank\">more info</a>.</p>\n"
            ],
            "text/plain": [
              "<IPython.core.display.HTML object>"
            ]
          },
          "metadata": {
            "tags": []
          }
        },
        {
          "output_type": "execute_result",
          "data": {
            "text/html": [
              "<div>\n",
              "<style scoped>\n",
              "    .dataframe tbody tr th:only-of-type {\n",
              "        vertical-align: middle;\n",
              "    }\n",
              "\n",
              "    .dataframe tbody tr th {\n",
              "        vertical-align: top;\n",
              "    }\n",
              "\n",
              "    .dataframe thead th {\n",
              "        text-align: right;\n",
              "    }\n",
              "</style>\n",
              "<table border=\"1\" class=\"dataframe\">\n",
              "  <thead>\n",
              "    <tr style=\"text-align: right;\">\n",
              "      <th></th>\n",
              "      <th>close</th>\n",
              "      <th>high</th>\n",
              "      <th>low</th>\n",
              "      <th>open</th>\n",
              "      <th>volumefrom</th>\n",
              "      <th>volumeto</th>\n",
              "    </tr>\n",
              "    <tr>\n",
              "      <th>time</th>\n",
              "      <th></th>\n",
              "      <th></th>\n",
              "      <th></th>\n",
              "      <th></th>\n",
              "      <th></th>\n",
              "      <th></th>\n",
              "    </tr>\n",
              "  </thead>\n",
              "  <tbody>\n",
              "    <tr>\n",
              "      <th>2020-02-19</th>\n",
              "      <td>9602.43</td>\n",
              "      <td>10300.04</td>\n",
              "      <td>9340.17</td>\n",
              "      <td>10182.60</td>\n",
              "      <td>47506.68</td>\n",
              "      <td>4.731003e+08</td>\n",
              "    </tr>\n",
              "    <tr>\n",
              "      <th>2020-02-20</th>\n",
              "      <td>9608.80</td>\n",
              "      <td>9698.59</td>\n",
              "      <td>9402.81</td>\n",
              "      <td>9602.43</td>\n",
              "      <td>36843.12</td>\n",
              "      <td>3.529494e+08</td>\n",
              "    </tr>\n",
              "    <tr>\n",
              "      <th>2020-02-21</th>\n",
              "      <td>9697.86</td>\n",
              "      <td>9766.16</td>\n",
              "      <td>9582.07</td>\n",
              "      <td>9608.80</td>\n",
              "      <td>30286.18</td>\n",
              "      <td>2.935462e+08</td>\n",
              "    </tr>\n",
              "    <tr>\n",
              "      <th>2020-02-22</th>\n",
              "      <td>9671.46</td>\n",
              "      <td>9720.21</td>\n",
              "      <td>9577.84</td>\n",
              "      <td>9697.86</td>\n",
              "      <td>12206.36</td>\n",
              "      <td>1.181715e+08</td>\n",
              "    </tr>\n",
              "    <tr>\n",
              "      <th>2020-02-23</th>\n",
              "      <td>9892.14</td>\n",
              "      <td>10011.40</td>\n",
              "      <td>9669.88</td>\n",
              "      <td>9671.46</td>\n",
              "      <td>18774.58</td>\n",
              "      <td>1.855404e+08</td>\n",
              "    </tr>\n",
              "  </tbody>\n",
              "</table>\n",
              "</div>"
            ],
            "text/plain": [
              "              close      high      low      open  volumefrom      volumeto\n",
              "time                                                                      \n",
              "2020-02-19  9602.43  10300.04  9340.17  10182.60    47506.68  4.731003e+08\n",
              "2020-02-20  9608.80   9698.59  9402.81   9602.43    36843.12  3.529494e+08\n",
              "2020-02-21  9697.86   9766.16  9582.07   9608.80    30286.18  2.935462e+08\n",
              "2020-02-22  9671.46   9720.21  9577.84   9697.86    12206.36  1.181715e+08\n",
              "2020-02-23  9892.14  10011.40  9669.88   9671.46    18774.58  1.855404e+08"
            ]
          },
          "metadata": {
            "tags": []
          },
          "execution_count": 1
        }
      ]
    },
    {
      "cell_type": "markdown",
      "metadata": {
        "id": "eyJnHkhKSwq5",
        "colab_type": "text"
      },
      "source": [
        "choose which feature to predict...here \"closing price\""
      ]
    },
    {
      "cell_type": "code",
      "metadata": {
        "id": "CMOmqgF5Svwf",
        "colab_type": "code",
        "colab": {}
      },
      "source": [
        "target_col = 'close'"
      ],
      "execution_count": 0,
      "outputs": []
    },
    {
      "cell_type": "markdown",
      "metadata": {
        "id": "2d23ZbmF0aSY",
        "colab_type": "text"
      },
      "source": [
        "use last test_size% of data for testing"
      ]
    },
    {
      "cell_type": "code",
      "metadata": {
        "id": "c9tNW7RP0JXE",
        "colab_type": "code",
        "outputId": "55e178a3-3649-4409-cc4e-d36602528df0",
        "colab": {
          "base_uri": "https://localhost:8080/",
          "height": 557
        }
      },
      "source": [
        "def train_test_split(df, test_size=0.15):\n",
        "    split_row = len(df) - int(test_size * len(df))\n",
        "    train_data = df.iloc[:split_row]\n",
        "    test_data = df.iloc[split_row:]\n",
        "    return train_data, test_data\n",
        "def line_plot(line1, line2, label1=None, label2=None, title=''):\n",
        "    fig, ax = plt.subplots(1, figsize=(16, 9))\n",
        "    ax.plot(line1, label=label1, linewidth=2)\n",
        "    ax.plot(line2, label=label2, linewidth=2)\n",
        "    ax.set_ylabel('price [USD]', fontsize=14)\n",
        "    ax.set_title(title, fontsize=18)\n",
        "    ax.legend(loc='best', fontsize=18)\n",
        "train, test = train_test_split(hist, test_size=0.15)\n",
        "line_plot(train.close, test.close, 'training', 'test', 'BTC')"
      ],
      "execution_count": 0,
      "outputs": [
        {
          "output_type": "display_data",
          "data": {
            "image/png": "[encoded data removed]",
            "text/plain": [
              "<Figure size 1152x648 with 1 Axes>"
            ]
          },
          "metadata": {
            "tags": []
          }
        }
      ]
    },
    {
      "cell_type": "markdown",
      "metadata": {
        "id": "4gLUCvlr1RCp",
        "colab_type": "text"
      },
      "source": [
        "For training the LSTM, the data was split into windows of 4 days (this number is somewhat arbitary) and within each window I normalised the data to zero base, i.e. the first entry of each window is 0 and all other values represent the change with respect to the first value. Hence, I am predicting price changes, rather than absolute price. \n",
        "\n",
        "Choose the value of window you'd like to use...how to \"chunk\" the time series. Change the two method params in extract_window_data and prepare_data"
      ]
    },
    {
      "cell_type": "code",
      "metadata": {
        "id": "p_3Csdw61Jkk",
        "colab_type": "code",
        "colab": {}
      },
      "source": [
        "def normalise_zero_base(df):\n",
        "    \"\"\" Normalise dataframe column-wise to reflect changes with\n",
        "        respect to first entry.\n",
        "    \"\"\"\n",
        "    return df / df.iloc[0] - 1\n",
        "def extract_window_data(df, window=4, zero_base=True):\n",
        "    \"\"\" Convert dataframe to overlapping sequences/windows of\n",
        "        length `window`.\n",
        "    \"\"\"\n",
        "    window_data = []\n",
        "    for idx in range(len(df) - window):\n",
        "        tmp = df[idx: (idx + window)].copy()\n",
        "        if zero_base:\n",
        "            tmp = normalise_zero_base(tmp)\n",
        "        window_data.append(tmp.values)\n",
        "    return np.array(window_data)\n",
        "def prepare_data(df, window=4, zero_base=True, test_size=0.15):\n",
        "    \"\"\" Prepare data for LSTM. \"\"\"\n",
        "    # train test split\n",
        "    train_data, test_data = train_test_split(df, test_size)\n",
        "    \n",
        "    # extract window data\n",
        "    X_train = extract_window_data(train_data, window, zero_base)\n",
        "    X_test = extract_window_data(test_data, window, zero_base)\n",
        "    \n",
        "    # extract targets\n",
        "    y_train = train_data.close[window:].values\n",
        "    y_test = test_data.close[window:].values\n",
        "    if zero_base:\n",
        "        y_train = y_train / train_data.close[:-window].values - 1\n",
        "        y_test = y_test / test_data.close[:-window].values - 1\n",
        "    return train_data, test_data, X_train, X_test, y_train, y_test\n",
        "train, test, X_train, X_test, y_train, y_test = prepare_data(hist)"
      ],
      "execution_count": 0,
      "outputs": []
    },
    {
      "cell_type": "code",
      "metadata": {
        "id": "rG5nrVQu1ice",
        "colab_type": "code",
        "outputId": "966a842c-8706-4f3d-e9d6-32101d53e242",
        "colab": {
          "base_uri": "https://localhost:8080/",
          "height": 230
        }
      },
      "source": [
        "def build_lstm_model(input_data, output_size, neurons=128,\n",
        "                     activ_func='tanh', dropout=0.5,\n",
        "                     loss='mse', optimizer='adam'):\n",
        "    model = Sequential()\n",
        "    model.add(LSTM(neurons, return_sequences=True, input_shape=(\n",
        "              input_data.shape[1], input_data.shape[2])))\n",
        "    model.add(LSTM(64))\n",
        "    model.add(Dropout(dropout))\n",
        "    model.add(Dense(units=output_size))\n",
        "    model.add(Activation(activ_func))\n",
        "    #model.add(LeakyReLU(alpha=.1))\n",
        "    model.compile(loss=loss, optimizer=optimizer)\n",
        "    return model\n",
        "model = build_lstm_model(X_train, output_size=1)\n",
        "history = model.fit(X_train, y_train, epochs=6, batch_size=12)"
      ],
      "execution_count": 0,
      "outputs": [
        {
          "output_type": "stream",
          "text": [
            "Epoch 1/6\n",
            "1017/1017 [==============================] - 15s 15ms/step - loss: 0.0056\n",
            "Epoch 2/6\n",
            "1017/1017 [==============================] - 9s 8ms/step - loss: 0.0045\n",
            "Epoch 3/6\n",
            "1017/1017 [==============================] - 9s 8ms/step - loss: 0.0041\n",
            "Epoch 4/6\n",
            "1017/1017 [==============================] - 9s 8ms/step - loss: 0.0038\n",
            "Epoch 5/6\n",
            "1017/1017 [==============================] - 9s 8ms/step - loss: 0.0039\n",
            "Epoch 6/6\n",
            "1017/1017 [==============================] - 9s 8ms/step - loss: 0.0040\n"
          ],
          "name": "stdout"
        }
      ]
    },
    {
      "cell_type": "code",
      "metadata": {
        "id": "2uA8iBrM3ebz",
        "colab_type": "code",
        "outputId": "8b9e2b65-9566-4215-f029-94bb62cb8325",
        "colab": {
          "base_uri": "https://localhost:8080/",
          "height": 238
        }
      },
      "source": [
        "window=4\n",
        "\n",
        "targets = test[target_col][window:]\n",
        "\n",
        "preds = model.predict(X_test).squeeze()\n",
        "preds2 = model.predict(X_train).squeeze()\n",
        "\n",
        "print(r2_score(preds2, y_train))\n",
        "print(r2_score(preds, y_test))\n",
        "\n",
        "# convert change predictions back to actual price\n",
        "preds = test.close.values[:-window] * (preds + 1)\n",
        "preds = pd.Series(index=targets.index, data=preds)\n",
        "\n",
        "n = 180\n",
        "line_plot(targets[-n:], preds[-n:], 'actual', 'prediction')"
      ],
      "execution_count": 0,
      "outputs": [
        {
          "output_type": "error",
          "ename": "NameError",
          "evalue": "ignored",
          "traceback": [
            "\u001b[0;31m---------------------------------------------------------------------------\u001b[0m",
            "\u001b[0;31mNameError\u001b[0m                                 Traceback (most recent call last)",
            "\u001b[0;32m<ipython-input-1-573adaceeaa2>\u001b[0m in \u001b[0;36m<module>\u001b[0;34m()\u001b[0m\n\u001b[1;32m      1\u001b[0m \u001b[0mwindow\u001b[0m\u001b[0;34m=\u001b[0m\u001b[0;36m4\u001b[0m\u001b[0;34m\u001b[0m\u001b[0;34m\u001b[0m\u001b[0m\n\u001b[1;32m      2\u001b[0m \u001b[0;34m\u001b[0m\u001b[0m\n\u001b[0;32m----> 3\u001b[0;31m \u001b[0mtargets\u001b[0m \u001b[0;34m=\u001b[0m \u001b[0mtest\u001b[0m\u001b[0;34m[\u001b[0m\u001b[0mtarget_col\u001b[0m\u001b[0;34m]\u001b[0m\u001b[0;34m[\u001b[0m\u001b[0mwindow\u001b[0m\u001b[0;34m:\u001b[0m\u001b[0;34m]\u001b[0m\u001b[0;34m\u001b[0m\u001b[0;34m\u001b[0m\u001b[0m\n\u001b[0m\u001b[1;32m      4\u001b[0m \u001b[0;34m\u001b[0m\u001b[0m\n\u001b[1;32m      5\u001b[0m \u001b[0mpreds\u001b[0m \u001b[0;34m=\u001b[0m \u001b[0mmodel\u001b[0m\u001b[0;34m.\u001b[0m\u001b[0mpredict\u001b[0m\u001b[0;34m(\u001b[0m\u001b[0mX_test\u001b[0m\u001b[0;34m)\u001b[0m\u001b[0;34m.\u001b[0m\u001b[0msqueeze\u001b[0m\u001b[0;34m(\u001b[0m\u001b[0;34m)\u001b[0m\u001b[0;34m\u001b[0m\u001b[0;34m\u001b[0m\u001b[0m\n",
            "\u001b[0;31mNameError\u001b[0m: name 'test' is not defined"
          ]
        }
      ]
    },
    {
      "cell_type": "code",
      "metadata": {
        "id": "Vsi-El2c3JJ-",
        "colab_type": "code",
        "colab": {}
      },
      "source": [
        ""
      ],
      "execution_count": 0,
      "outputs": []
    }
  ]
}